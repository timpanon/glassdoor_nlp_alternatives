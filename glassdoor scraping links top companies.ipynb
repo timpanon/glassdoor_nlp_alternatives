{
 "cells": [
  {
   "cell_type": "code",
   "execution_count": 16,
   "metadata": {},
   "outputs": [],
   "source": [
    "import pandas as pd\n",
    "import requests\n",
    "import time\n",
    "import math\n",
    "import re\n",
    "import pickle \n",
    "\n",
    "from bs4 import BeautifulSoup\n",
    "from selenium import webdriver\n",
    "from selenium.webdriver.support.ui import WebDriverWait\n",
    "from selenium.webdriver.common.by import By\n",
    "from selenium.webdriver.support import expected_conditions as EC"
   ]
  },
  {
   "cell_type": "code",
   "execution_count": 18,
   "metadata": {},
   "outputs": [],
   "source": [
    "driver =  webdriver.Chrome()\n",
    "driver.get('https://www.glassdoor.com/Award/Best-Places-to-Work-LST_KQ0,19.htm') \n",
    "htmlSource = driver.page_source\n",
    "soup = BeautifulSoup(htmlSource,\"html.parser\")"
   ]
  },
  {
   "cell_type": "code",
   "execution_count": 19,
   "metadata": {
    "scrolled": false
   },
   "outputs": [
    {
     "data": {
      "text/plain": [
       "['https://www.glassdoor.com/Reviews/NVIDIA-Reviews-E7633.htm',\n",
       " 'https://www.glassdoor.com/Reviews/HubSpot-Reviews-E227605.htm',\n",
       " 'https://www.glassdoor.com/Reviews/Bain-and-Company-Reviews-E3752.htm',\n",
       " 'https://www.glassdoor.com/Reviews/eXp-Realty-Reviews-E907965.htm',\n",
       " 'https://www.glassdoor.com/Reviews/Box-Reviews-E254092.htm',\n",
       " 'https://www.glassdoor.com/Reviews/Boston-Consulting-Group-Reviews-E3879.htm',\n",
       " 'https://www.glassdoor.com/Reviews/Google-Reviews-E9079.htm',\n",
       " 'https://www.glassdoor.com/Reviews/Veterans-United-Home-Loans-Reviews-E242421.htm',\n",
       " 'https://www.glassdoor.com/Reviews/lululemon-Reviews-E42589.htm',\n",
       " 'https://www.glassdoor.com/Reviews/Salesforce-Reviews-E11159.htm',\n",
       " 'https://www.glassdoor.com/Reviews/Royal-Caribbean-Group-Reviews-E3579.htm',\n",
       " 'https://www.glassdoor.com/Reviews/NASA-Jet-Propulsion-Laboratory-Reviews-E116768.htm',\n",
       " 'https://www.glassdoor.com/Reviews/Five9-Reviews-E433188.htm',\n",
       " 'https://www.glassdoor.com/Reviews/Twilio-Reviews-E410790.htm',\n",
       " 'https://www.glassdoor.com/Reviews/Johns-Hopkins-University-Applied-Physics-Laboratory-Reviews-E194262.htm',\n",
       " 'https://www.glassdoor.com/Reviews/Adobe-Reviews-E1090.htm',\n",
       " 'https://www.glassdoor.com/Reviews/Akamai-Reviews-E9219.htm',\n",
       " 'https://www.glassdoor.com/Reviews/Delta-Air-Lines-Reviews-E197.htm',\n",
       " 'https://www.glassdoor.com/Reviews/LinkedIn-Reviews-E34865.htm',\n",
       " 'https://www.glassdoor.com/Reviews/Rivian-Reviews-E630579.htm',\n",
       " 'https://www.glassdoor.com/Reviews/Autodesk-Reviews-E1155.htm',\n",
       " 'https://www.glassdoor.com/Reviews/MathWorks-Reviews-E17117.htm',\n",
       " 'https://www.glassdoor.com/Reviews/ServiceNow-Reviews-E403326.htm',\n",
       " 'https://www.glassdoor.com/Reviews/Mountain-America-Credit-Union-Reviews-E323626.htm',\n",
       " 'https://www.glassdoor.com/Reviews/Milwaukee-Tool-Reviews-E13627.htm',\n",
       " 'https://www.glassdoor.com/Reviews/The-Church-of-Jesus-Christ-of-Latter-day-Saints-Reviews-E122747.htm',\n",
       " 'https://www.glassdoor.com/Reviews/DocuSign-Reviews-E307604.htm',\n",
       " 'https://www.glassdoor.com/Reviews/Microsoft-Reviews-E1651.htm',\n",
       " 'https://www.glassdoor.com/Reviews/Intuitive-Intuitive-Surgical-Reviews-E8090.htm',\n",
       " 'https://www.glassdoor.com/Reviews/Southwest-Airlines-Reviews-E611.htm',\n",
       " 'https://www.glassdoor.com/Reviews/Capital-Group-Reviews-E9441.htm',\n",
       " 'https://www.glassdoor.com/Reviews/Trader-Joe-s-Reviews-E5631.htm',\n",
       " 'https://www.glassdoor.com/Reviews/H-E-B-Reviews-E2824.htm',\n",
       " 'https://www.glassdoor.com/Reviews/Booz-Allen-Hamilton-Reviews-E2735.htm',\n",
       " 'https://www.glassdoor.com/Reviews/Hilti-North-America-Reviews-E18516.htm',\n",
       " 'https://www.glassdoor.com/Reviews/Block-Reviews-E422050.htm',\n",
       " 'https://www.glassdoor.com/Reviews/Lawrence-Livermore-National-Laboratory-Reviews-E35235.htm',\n",
       " 'https://www.glassdoor.com/Reviews/Zscaler-Reviews-E359434.htm',\n",
       " 'https://www.glassdoor.com/Reviews/In-N-Out-Burger-Reviews-E14276.htm',\n",
       " 'https://www.glassdoor.com/Reviews/Tanium-Reviews-E952409.htm',\n",
       " 'https://www.glassdoor.com/Reviews/Red-Hat-Reviews-E8868.htm',\n",
       " 'https://www.glassdoor.com/Reviews/SAP-Reviews-E10471.htm',\n",
       " 'https://www.glassdoor.com/Reviews/Zendesk-Reviews-E360923.htm',\n",
       " 'https://www.glassdoor.com/Reviews/Silicon-Valley-Bank-Reviews-E107161.htm',\n",
       " 'https://www.glassdoor.com/Reviews/AppFolio-Reviews-E225531.htm',\n",
       " 'https://www.glassdoor.com/Reviews/Merck-Reviews-E438.htm',\n",
       " 'https://www.glassdoor.com/Reviews/Meta-Reviews-E40772.htm',\n",
       " 'https://www.glassdoor.com/Reviews/Houston-Methodist-Reviews-E4460.htm',\n",
       " 'https://www.glassdoor.com/Reviews/St-Jude-Children-s-Research-Hospital-Reviews-E28315.htm',\n",
       " 'https://www.glassdoor.com/Reviews/Southern-California-Edison-Reviews-E15209.htm',\n",
       " 'https://www.glassdoor.com/Reviews/Keller-Williams-Reviews-E114145.htm',\n",
       " 'https://www.glassdoor.com/Reviews/Boston-Scientific-Reviews-E2187.htm',\n",
       " 'https://www.glassdoor.com/Reviews/Curriculum-Associates-Reviews-E334270.htm',\n",
       " 'https://www.glassdoor.com/Reviews/Zillow-Reviews-E40802.htm',\n",
       " 'https://www.glassdoor.com/Reviews/eBay-Reviews-E7853.htm',\n",
       " 'https://www.glassdoor.com/Reviews/Apple-Reviews-E1138.htm',\n",
       " 'https://www.glassdoor.com/Reviews/Texas-Instruments-Reviews-E651.htm',\n",
       " 'https://www.glassdoor.com/Reviews/Momentum-Solar-Reviews-E1387632.htm',\n",
       " 'https://www.glassdoor.com/Reviews/Fidelity-Investments-Reviews-E2786.htm',\n",
       " 'https://www.glassdoor.com/Reviews/Qualtrics-Reviews-E323717.htm',\n",
       " 'https://www.glassdoor.com/Reviews/First-Republic-Bank-Reviews-E859.htm',\n",
       " 'https://www.glassdoor.com/Reviews/Robins-and-Morton-Reviews-E339105.htm',\n",
       " 'https://www.glassdoor.com/Reviews/Slalom-Reviews-E31102.htm',\n",
       " 'https://www.glassdoor.com/Reviews/AMD-Reviews-E15.htm',\n",
       " 'https://www.glassdoor.com/Reviews/Coldwell-Banker-Reviews-E13952.htm',\n",
       " 'https://www.glassdoor.com/Reviews/Viasat-Reviews-E5500.htm',\n",
       " 'https://www.glassdoor.com/Reviews/Atlassian-Reviews-E115699.htm',\n",
       " 'https://www.glassdoor.com/Reviews/Forrester-Reviews-E6443.htm',\n",
       " 'https://www.glassdoor.com/Reviews/CDW-Reviews-E2347.htm',\n",
       " 'https://www.glassdoor.com/Reviews/Databricks-Reviews-E954734.htm',\n",
       " 'https://www.glassdoor.com/Reviews/Visa-Inc-Reviews-E3035.htm',\n",
       " 'https://www.glassdoor.com/Reviews/SailPoint-Technologies-Reviews-E449696.htm',\n",
       " 'https://www.glassdoor.com/Reviews/Capital-One-Reviews-E3736.htm',\n",
       " 'https://www.glassdoor.com/Reviews/Roche-Reviews-E3480.htm',\n",
       " 'https://www.glassdoor.com/Reviews/Johnson-and-Johnson-Reviews-E364.htm',\n",
       " 'https://www.glassdoor.com/Reviews/Workday-Reviews-E197851.htm',\n",
       " 'https://www.glassdoor.com/Reviews/Randstad-Sourceright-Reviews-E494861.htm',\n",
       " 'https://www.glassdoor.com/Reviews/Estée-Lauder-Companies-Reviews-E2785.htm',\n",
       " 'https://www.glassdoor.com/Reviews/NIH-Reviews-E11709.htm',\n",
       " 'https://www.glassdoor.com/Reviews/Wegmans-Food-Markets-Reviews-E3042.htm',\n",
       " 'https://www.glassdoor.com/Reviews/Cisco-Systems-Reviews-E1425.htm',\n",
       " 'https://www.glassdoor.com/Reviews/Mars-Reviews-E2886.htm',\n",
       " 'https://www.glassdoor.com/Reviews/Medtronic-Reviews-E436.htm',\n",
       " 'https://www.glassdoor.com/Reviews/Vans-Reviews-E881.htm',\n",
       " 'https://www.glassdoor.com/Reviews/VMware-Reviews-E12830.htm',\n",
       " 'https://www.glassdoor.com/Reviews/Mayo-Clinic-Reviews-E19884.htm',\n",
       " 'https://www.glassdoor.com/Reviews/Qualcomm-Reviews-E640.htm',\n",
       " 'https://www.glassdoor.com/Reviews/Madewell-Reviews-E426474.htm',\n",
       " 'https://www.glassdoor.com/Reviews/Exact-Sciences-Reviews-E12829.htm',\n",
       " 'https://www.glassdoor.com/Reviews/Scheels-Reviews-E32500.htm',\n",
       " 'https://www.glassdoor.com/Reviews/Procore-Technologies-Reviews-E691343.htm',\n",
       " 'https://www.glassdoor.com/Reviews/Intel-Corporation-Reviews-E1519.htm',\n",
       " 'https://www.glassdoor.com/Reviews/Costco-Wholesale-Reviews-E2590.htm',\n",
       " 'https://www.glassdoor.com/Reviews/Pfizer-Reviews-E525.htm',\n",
       " 'https://www.glassdoor.com/Reviews/REI-Reviews-E7319.htm',\n",
       " 'https://www.glassdoor.com/Reviews/Cincinnati-Children-s-Hospital-Reviews-E19251.htm',\n",
       " 'https://www.glassdoor.com/Reviews/Universal-Studios-Reviews-E4200.htm',\n",
       " 'https://www.glassdoor.com/Reviews/Malouf-Companies-Reviews-E1069181.htm',\n",
       " 'https://www.glassdoor.com/Reviews/RE-MAX-Reviews-E3867.htm',\n",
       " 'https://www.glassdoor.com/Reviews/Zoom-Video-Communications-Reviews-E924644.htm']"
      ]
     },
     "execution_count": 19,
     "metadata": {},
     "output_type": "execute_result"
    }
   ],
   "source": [
    "# TOP 50 companies \n",
    "# get the links for \n",
    "links = soup.find_all(class_ ='mt-xsm mb-0')\n",
    "final_links = []\n",
    "for link in links:\n",
    "    end = link.find('a', href=True)['href'] \n",
    "    final_links.append('https://www.glassdoor.com' + end)\n",
    "final_links"
   ]
  },
  {
   "cell_type": "code",
   "execution_count": 20,
   "metadata": {},
   "outputs": [],
   "source": [
    "with open('links_top_50_large.pickle','wb') as f:\n",
    "    pickle.dump(final_links, f)"
   ]
  },
  {
   "cell_type": "code",
   "execution_count": null,
   "metadata": {},
   "outputs": [],
   "source": []
  }
 ],
 "metadata": {
  "kernelspec": {
   "display_name": "Python 3",
   "language": "python",
   "name": "python3"
  },
  "language_info": {
   "codemirror_mode": {
    "name": "ipython",
    "version": 3
   },
   "file_extension": ".py",
   "mimetype": "text/x-python",
   "name": "python",
   "nbconvert_exporter": "python",
   "pygments_lexer": "ipython3",
   "version": "3.8.5"
  }
 },
 "nbformat": 4,
 "nbformat_minor": 4
}
